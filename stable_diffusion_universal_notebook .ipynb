{
 "cells": [
  {
   "cell_type": "markdown",
   "metadata": {},
   "source": [
    "###Install dependencies:"
   ]
  },
  {
   "cell_type": "code",
   "execution_count": null,
   "metadata": {
    "execution": {
     "iopub.execute_input": "2022-09-11T16:56:05.689388Z",
     "iopub.status.busy": "2022-09-11T16:56:05.689009Z",
     "iopub.status.idle": "2022-09-11T16:56:08.734456Z",
     "shell.execute_reply": "2022-09-11T16:56:08.733275Z",
     "shell.execute_reply.started": "2022-09-11T16:56:05.689316Z"
    },
    "id": "QuFz5uGi-h6G"
   },
   "outputs": [],
   "source": [
    "%pip install diffusers==0.3.0 transformers scipy ftfy"
   ]
  },
  {
   "cell_type": "markdown",
   "metadata": {},
   "source": [
    "##Download checkpoint file for stable-diffusion,\n",
    "you should put your token for hugginface.co after use_auth_token=\"\""
   ]
  },
  {
   "cell_type": "code",
   "execution_count": null,
   "metadata": {
    "execution": {
     "iopub.execute_input": "2022-09-11T17:00:23.362458Z",
     "iopub.status.busy": "2022-09-11T17:00:23.361622Z",
     "iopub.status.idle": "2022-09-11T17:01:54.480476Z",
     "shell.execute_reply": "2022-09-11T17:01:54.479505Z",
     "shell.execute_reply.started": "2022-09-11T17:00:23.362426Z"
    },
    "id": "vF9Q0xKX8gLR"
   },
   "outputs": [],
   "source": [
    "from diffusers import StableDiffusionPipeline\n",
    "# get your token at https://huggingface.co/settings/tokens\n",
    "pipe = StableDiffusionPipeline.from_pretrained(\"CompVis/stable-diffusion-v1-4\", use_auth_token=\"YOUR-TOKEN\")"
   ]
  },
  {
   "cell_type": "code",
   "execution_count": null,
   "metadata": {
    "execution": {
     "iopub.execute_input": "2022-09-11T17:01:57.163220Z",
     "iopub.status.busy": "2022-09-11T17:01:57.162534Z",
     "iopub.status.idle": "2022-09-11T17:02:00.368366Z",
     "shell.execute_reply": "2022-09-11T17:02:00.367597Z",
     "shell.execute_reply.started": "2022-09-11T17:01:57.163191Z"
    },
    "id": "bG2hkmSEvByV"
   },
   "outputs": [],
   "source": [
    "import os\n",
    "pipe.to(\"cuda\")\n",
    "!mkdir images"
   ]
  },
  {
   "cell_type": "markdown",
   "metadata": {},
   "source": [
    "##Generating:"
   ]
  },
  {
   "cell_type": "code",
   "execution_count": null,
   "metadata": {
    "execution": {
     "iopub.execute_input": "2022-09-11T17:11:10.087127Z",
     "iopub.status.busy": "2022-09-11T17:11:10.086510Z",
     "iopub.status.idle": "2022-09-11T17:11:25.369611Z",
     "shell.execute_reply": "2022-09-11T17:11:25.368690Z",
     "shell.execute_reply.started": "2022-09-11T17:11:10.087091Z"
    },
    "id": "AUc4QJfE-uR9"
   },
   "outputs": [],
   "source": [
    "#Create one image please :-)\n",
    "from datetime import datetime, date, time\n",
    "\n",
    "#this is most important place, put your prompt below\n",
    "prompt = \"a photo of an raddish riding a horse on mars\"\n",
    "\n",
    "#default width and height is 512\n",
    "image = pipe(prompt, width=768, height=512).images[0]\n",
    "\n",
    "image.save(f\"images/out\" + str(datetime.today().isoformat()) + \".png\")"
   ]
  },
  {
   "cell_type": "code",
   "execution_count": null,
   "metadata": {
    "execution": {
     "iopub.execute_input": "2022-09-11T17:20:55.688925Z",
     "iopub.status.busy": "2022-09-11T17:20:55.688029Z",
     "iopub.status.idle": "2022-09-11T17:20:55.693829Z",
     "shell.execute_reply": "2022-09-11T17:20:55.692675Z",
     "shell.execute_reply.started": "2022-09-11T17:20:55.688891Z"
    }
   },
   "outputs": [],
   "source": [
    "#Crete many images\n",
    "from datetime import datetime, date, time\n",
    "\n",
    "#this is most important place, put your prompt below\n",
    "prompt = \"a photo of an raddish riding a horse on mars\"\n",
    "#number of images you would like to have\n",
    "how_many = 6\n",
    "\n",
    "for i in range(how_many):\n",
    "    image = pipe(prompt, width=768, height=512).images[0]\n",
    "    image.save(f\"images/out\" + str(datetime.today().isoformat()) + \".png\")"
   ]
  },
  {
   "cell_type": "markdown",
   "metadata": {},
   "source": [
    "##Create zip file with all images"
   ]
  },
  {
   "cell_type": "code",
   "execution_count": null,
   "metadata": {
    "execution": {
     "iopub.execute_input": "2022-09-11T17:16:07.462506Z",
     "iopub.status.busy": "2022-09-11T17:16:07.461741Z",
     "iopub.status.idle": "2022-09-11T17:17:24.865367Z",
     "shell.execute_reply": "2022-09-11T17:17:24.864577Z",
     "shell.execute_reply.started": "2022-09-11T17:16:07.462476Z"
    }
   },
   "outputs": [],
   "source": [
    "#Make zip file with images here\n",
    "import os\n",
    "\n",
    "!zip -r Out.zip images\n",
    "\n",
    "from IPython.display import FileLink\n",
    "\n",
    "FileLink(r'Out.zip')"
   ]
  }
 ],
 "metadata": {
  "accelerator": "GPU",
  "colab": {
   "collapsed_sections": [],
   "name": "stable-diffusion.ipynb",
   "private_outputs": true,
   "provenance": []
  },
  "gpuClass": "standard",
  "kernelspec": {
   "display_name": "Python 3 (ipykernel)",
   "language": "python",
   "name": "python3"
  },
  "language_info": {
   "codemirror_mode": {
    "name": "ipython",
    "version": 3
   },
   "file_extension": ".py",
   "mimetype": "text/x-python",
   "name": "python",
   "nbconvert_exporter": "python",
   "pygments_lexer": "ipython3",
   "version": "3.9.13"
  }
 },
 "nbformat": 4,
 "nbformat_minor": 4
}
